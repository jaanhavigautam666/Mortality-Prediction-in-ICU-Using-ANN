{
  "nbformat": 4,
  "nbformat_minor": 0,
  "metadata": {
    "colab": {
      "name": "Model_building_and _fitting.ipynb",
      "provenance": [],
      "authorship_tag": "ABX9TyNro+I3fP9PN9n7Mj+2JXkZ",
      "include_colab_link": true
    },
    "kernelspec": {
      "name": "python3",
      "display_name": "Python 3"
    },
    "language_info": {
      "name": "python"
    }
  },
  "cells": [
    {
      "cell_type": "markdown",
      "metadata": {
        "id": "view-in-github",
        "colab_type": "text"
      },
      "source": [
        "<a href=\"https://colab.research.google.com/github/jaanhavigautam666/Mortality-Prediction-in-ICU-Using-ANN/blob/main/Model_building_and__fitting.ipynb\" target=\"_parent\"><img src=\"https://colab.research.google.com/assets/colab-badge.svg\" alt=\"Open In Colab\"/></a>"
      ]
    },
    {
      "cell_type": "code",
      "metadata": {
        "id": "WSh8sVZI4Q4z"
      },
      "source": [
        "import numpy as np\n",
        "import pandas as pd\n",
        "import seaborn as sns\n",
        "import matplotlib.pyplot as plt\n",
        "import tensorflow as tf"
      ],
      "execution_count": 18,
      "outputs": []
    },
    {
      "cell_type": "code",
      "metadata": {
        "id": "X_QBNE4y4hDi"
      },
      "source": [
        "dataset_train = pd.read_csv('train.csv')\n",
        "dataset_test = pd.read_csv('labels.csv')"
      ],
      "execution_count": 6,
      "outputs": []
    },
    {
      "cell_type": "code",
      "metadata": {
        "id": "ejlOsDyb4kl0"
      },
      "source": [
        "train_test= pd.concat([dataset_train,dataset_test],axis = 1)"
      ],
      "execution_count": 7,
      "outputs": []
    },
    {
      "cell_type": "code",
      "metadata": {
        "colab": {
          "base_uri": "https://localhost:8080/"
        },
        "id": "ibGU9BwK4oyi",
        "outputId": "183a48aa-5b0c-499a-eac3-08d46835b666"
      },
      "source": [
        "new_df = train_test.drop(['In-hospital_death'] , axis =1)\n",
        "new_df.shape"
      ],
      "execution_count": 8,
      "outputs": [
        {
          "output_type": "execute_result",
          "data": {
            "text/plain": [
              "(3999, 42)"
            ]
          },
          "metadata": {
            "tags": []
          },
          "execution_count": 8
        }
      ]
    },
    {
      "cell_type": "code",
      "metadata": {
        "id": "ySlK6mP04sPX"
      },
      "source": [
        "dataset_train = new_df"
      ],
      "execution_count": 9,
      "outputs": []
    },
    {
      "cell_type": "code",
      "metadata": {
        "id": "WMbYeL1F4vUE"
      },
      "source": [
        "dataset_train = dataset_train.drop(['Gender','Cholesterol','HCT','ICUType','Height'],axis =1)"
      ],
      "execution_count": 10,
      "outputs": []
    },
    {
      "cell_type": "code",
      "metadata": {
        "id": "JS4dLRVm425k"
      },
      "source": [
        "#One Hot Encoding\n",
        "temp=[]\n",
        "for i in dataset_test[\"In-hospital_death\"]:\n",
        "  if i==0:\n",
        "    temp.append([1,0])\n",
        "  else:\n",
        "    temp.append([0,1])\n",
        "temp= np.array(temp)    "
      ],
      "execution_count": 11,
      "outputs": []
    },
    {
      "cell_type": "code",
      "metadata": {
        "id": "ccpQ-F9X4ziC"
      },
      "source": [
        "X = dataset_train\n",
        "Y = temp"
      ],
      "execution_count": 12,
      "outputs": []
    },
    {
      "cell_type": "code",
      "metadata": {
        "colab": {
          "base_uri": "https://localhost:8080/"
        },
        "id": "YUnZEWRL5WmH",
        "outputId": "a5d8d30f-2fdb-4a8f-af1b-a41e8ebb9898"
      },
      "source": [
        "print(X.shape , Y.shape)"
      ],
      "execution_count": 13,
      "outputs": [
        {
          "output_type": "stream",
          "text": [
            "(3999, 37) (3999, 2)\n"
          ],
          "name": "stdout"
        }
      ]
    },
    {
      "cell_type": "code",
      "metadata": {
        "id": "UmLXo6ec5gKv"
      },
      "source": [
        "from sklearn.model_selection import train_test_split\n",
        "X_train , X_test , Y_train , Y_test  = train_test_split(X ,  Y, test_size = 0.2, random_state = 0)"
      ],
      "execution_count": 14,
      "outputs": []
    },
    {
      "cell_type": "code",
      "metadata": {
        "id": "M2OV5ACasmAY"
      },
      "source": [
        "from sklearn.preprocessing import StandardScaler\n",
        "sc = StandardScaler()\n",
        "X_train = sc.fit_transform(X_train)\n",
        "X_test = sc.transform(X_test)"
      ],
      "execution_count": 15,
      "outputs": []
    },
    {
      "cell_type": "code",
      "metadata": {
        "colab": {
          "base_uri": "https://localhost:8080/"
        },
        "id": "BUw8B0Q2u94-",
        "outputId": "d54a4007-7f5e-4366-a861-d5e052eca029"
      },
      "source": [
        "X_test\n"
      ],
      "execution_count": 17,
      "outputs": [
        {
          "output_type": "execute_result",
          "data": {
            "text/plain": [
              "array([[-0.16982827, -0.15156505, -0.1514376 , ..., -0.2478103 ,\n",
              "         1.11070721, -0.03705253],\n",
              "       [-0.16982827, -0.15156505, -0.1514376 , ...,  0.53329884,\n",
              "         0.06569464, -0.03022756],\n",
              "       [-0.67905222, -0.19378346, -0.14970857, ..., -1.01896902,\n",
              "        -0.18259365, -0.08428137],\n",
              "       ...,\n",
              "       [ 0.05037669, -0.19143799, -0.1894764 , ..., -1.05379554,\n",
              "         0.88805868, -0.06551269],\n",
              "       [ 0.73851717, -0.19612892, -0.21022483, ...,  0.98604364,\n",
              "         3.56259955, -0.03072806],\n",
              "       [-0.16982827, -0.15156505, -0.1514376 , ...,  0.61787754,\n",
              "         0.10780365, -0.08636036]])"
            ]
          },
          "metadata": {
            "tags": []
          },
          "execution_count": 17
        }
      ]
    },
    {
      "cell_type": "code",
      "metadata": {
        "id": "hlR1jESNvFtg"
      },
      "source": [
        "ann= tf.keras.models.Sequential()"
      ],
      "execution_count": 19,
      "outputs": []
    },
    {
      "cell_type": "code",
      "metadata": {
        "id": "mTtnasRsw2i9"
      },
      "source": [
        "ann.add(tf.keras.layers.Dense(units=64, activation='relu'))"
      ],
      "execution_count": 21,
      "outputs": []
    },
    {
      "cell_type": "code",
      "metadata": {
        "id": "DbCGLNy0xUXB"
      },
      "source": [
        "ann.add(tf.keras.layers.Dense(units=128, activation='relu'))"
      ],
      "execution_count": 22,
      "outputs": []
    },
    {
      "cell_type": "code",
      "metadata": {
        "id": "ze1egGikxYIz"
      },
      "source": [
        "ann.add(tf.keras.layers.Dense(units=196, activation='relu'))"
      ],
      "execution_count": 23,
      "outputs": []
    },
    {
      "cell_type": "code",
      "metadata": {
        "id": "urSQNvE3yWQ_"
      },
      "source": [
        "ann.add(tf.keras.layers.Dense(units=196, activation='relu'))"
      ],
      "execution_count": 24,
      "outputs": []
    },
    {
      "cell_type": "code",
      "metadata": {
        "id": "pyb4NImDyl7D"
      },
      "source": [
        "from keras.layers import Dense, Dropout , BatchNormalization\n",
        "ann.add(BatchNormalization())"
      ],
      "execution_count": 25,
      "outputs": []
    },
    {
      "cell_type": "code",
      "metadata": {
        "id": "F4TQzaxJy2dm"
      },
      "source": [
        "ann.add(tf.keras.layers.Dense(units=256, activation='relu'))"
      ],
      "execution_count": 26,
      "outputs": []
    },
    {
      "cell_type": "code",
      "metadata": {
        "id": "rEljrUk2ygeP"
      },
      "source": [
        "ann.add(tf.keras.layers.Dense(units=2, activation='sigmoid'))"
      ],
      "execution_count": 27,
      "outputs": []
    },
    {
      "cell_type": "code",
      "metadata": {
        "id": "N9sy7ZbazL7I"
      },
      "source": [
        "ann.compile(optimizer = 'adam', loss = 'binary_crossentropy', metrics = ['accuracy'])"
      ],
      "execution_count": 28,
      "outputs": []
    },
    {
      "cell_type": "code",
      "metadata": {
        "colab": {
          "base_uri": "https://localhost:8080/"
        },
        "id": "tUzpBMP4zVpl",
        "outputId": "eb321d39-1ce6-477d-ca68-5edd8c598edb"
      },
      "source": [
        "ann.fit(X_train, Y_train, batch_size = 128, epochs = 15, validation_data=(X_test, Y_test))"
      ],
      "execution_count": 29,
      "outputs": [
        {
          "output_type": "stream",
          "text": [
            "Epoch 1/15\n",
            "25/25 [==============================] - 2s 18ms/step - loss: 0.4408 - accuracy: 0.8265 - val_loss: 0.5605 - val_accuracy: 0.8800\n",
            "Epoch 2/15\n",
            "25/25 [==============================] - 0s 10ms/step - loss: 0.3174 - accuracy: 0.8690 - val_loss: 0.5493 - val_accuracy: 0.8788\n",
            "Epoch 3/15\n",
            "25/25 [==============================] - 0s 8ms/step - loss: 0.2772 - accuracy: 0.8800 - val_loss: 0.4954 - val_accuracy: 0.8800\n",
            "Epoch 4/15\n",
            "25/25 [==============================] - 0s 8ms/step - loss: 0.2376 - accuracy: 0.8962 - val_loss: 0.4589 - val_accuracy: 0.8838\n",
            "Epoch 5/15\n",
            "25/25 [==============================] - 0s 9ms/step - loss: 0.2055 - accuracy: 0.9087 - val_loss: 0.4006 - val_accuracy: 0.8825\n",
            "Epoch 6/15\n",
            "25/25 [==============================] - 0s 8ms/step - loss: 0.1562 - accuracy: 0.9372 - val_loss: 0.3500 - val_accuracy: 0.8800\n",
            "Epoch 7/15\n",
            "25/25 [==============================] - 0s 9ms/step - loss: 0.1280 - accuracy: 0.9528 - val_loss: 0.3143 - val_accuracy: 0.8875\n",
            "Epoch 8/15\n",
            "25/25 [==============================] - 0s 8ms/step - loss: 0.1018 - accuracy: 0.9653 - val_loss: 0.3076 - val_accuracy: 0.8850\n",
            "Epoch 9/15\n",
            "25/25 [==============================] - 0s 8ms/step - loss: 0.0663 - accuracy: 0.9794 - val_loss: 0.3067 - val_accuracy: 0.8800\n",
            "Epoch 10/15\n",
            "25/25 [==============================] - 0s 9ms/step - loss: 0.0440 - accuracy: 0.9866 - val_loss: 0.3236 - val_accuracy: 0.8737\n",
            "Epoch 11/15\n",
            "25/25 [==============================] - 0s 8ms/step - loss: 0.0322 - accuracy: 0.9925 - val_loss: 0.3403 - val_accuracy: 0.8763\n",
            "Epoch 12/15\n",
            "25/25 [==============================] - 0s 10ms/step - loss: 0.0244 - accuracy: 0.9937 - val_loss: 0.3938 - val_accuracy: 0.8838\n",
            "Epoch 13/15\n",
            "25/25 [==============================] - 0s 10ms/step - loss: 0.0148 - accuracy: 0.9975 - val_loss: 0.4316 - val_accuracy: 0.8863\n",
            "Epoch 14/15\n",
            "25/25 [==============================] - 0s 9ms/step - loss: 0.0225 - accuracy: 0.9950 - val_loss: 0.4322 - val_accuracy: 0.8800\n",
            "Epoch 15/15\n",
            "25/25 [==============================] - 0s 10ms/step - loss: 0.0338 - accuracy: 0.9900 - val_loss: 0.3901 - val_accuracy: 0.8737\n"
          ],
          "name": "stdout"
        },
        {
          "output_type": "execute_result",
          "data": {
            "text/plain": [
              "<tensorflow.python.keras.callbacks.History at 0x7f9f743cd710>"
            ]
          },
          "metadata": {
            "tags": []
          },
          "execution_count": 29
        }
      ]
    },
    {
      "cell_type": "code",
      "metadata": {
        "id": "OA031DpUzfHW"
      },
      "source": [
        "from sklearn.metrics import confusion_matrix,accuracy_score\n",
        "#prediction\n",
        "pred = ann.predict(X_test)\n",
        "pred = np.argmax(pred,axis = 1) \n",
        "y_true = np.argmax(Y_test,axis = 1)"
      ],
      "execution_count": 34,
      "outputs": []
    },
    {
      "cell_type": "code",
      "metadata": {
        "colab": {
          "base_uri": "https://localhost:8080/"
        },
        "id": "7D8evRmB0Mkx",
        "outputId": "83d00c7a-5cd0-4686-c799-3c0cb7d476fa"
      },
      "source": [
        "cnf_matrix = confusion_matrix(y_true, pred)\n",
        "print(cnf_matrix)"
      ],
      "execution_count": 32,
      "outputs": [
        {
          "output_type": "stream",
          "text": [
            "[[675  27]\n",
            " [ 74  24]]\n"
          ],
          "name": "stdout"
        }
      ]
    },
    {
      "cell_type": "code",
      "metadata": {
        "colab": {
          "base_uri": "https://localhost:8080/"
        },
        "id": "Slfyzzwn0WGZ",
        "outputId": "2f3ce9ca-2189-4e90-b317-e9a6ac896542"
      },
      "source": [
        "print(accuracy_score(y_true,pred))"
      ],
      "execution_count": 35,
      "outputs": [
        {
          "output_type": "stream",
          "text": [
            "0.87375\n"
          ],
          "name": "stdout"
        }
      ]
    },
    {
      "cell_type": "code",
      "metadata": {
        "id": "o5lnwWo90hQ5"
      },
      "source": [
        ""
      ],
      "execution_count": null,
      "outputs": []
    }
  ]
}